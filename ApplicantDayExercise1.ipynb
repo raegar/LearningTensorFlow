{
  "nbformat": 4,
  "nbformat_minor": 0,
  "metadata": {
    "colab": {
      "name": "Exercise1.ipynb",
      "version": "0.3.2",
      "provenance": [],
      "include_colab_link": true
    },
    "kernelspec": {
      "name": "python3",
      "display_name": "Python 3"
    },
    "accelerator": "GPU"
  },
  "cells": [
    {
      "cell_type": "markdown",
      "metadata": {
        "id": "view-in-github",
        "colab_type": "text"
      },
      "source": [
        "<a href=\"https://colab.research.google.com/github/raegar/LearningTensorFlow/blob/master/ApplicantDayExercise1.ipynb\" target=\"_parent\"><img src=\"https://colab.research.google.com/assets/colab-badge.svg\" alt=\"Open In Colab\"/></a>"
      ]
    },
    {
      "metadata": {
        "id": "K0tS2OZbuFuj",
        "colab_type": "text"
      },
      "cell_type": "markdown",
      "source": [
        "**Step 1**\n",
        "\n",
        "Welcome to your first Python Colab Notebook for Machine Learning.\n",
        "\n",
        "Before we get started with coding we will need to import the libraries that we will use to implement our Machine Leaning algorithm\n",
        "\n",
        "TensorFlow is a library of AI tools that we can use to ceate Deep Learning Neural Networks\n",
        "\n",
        "NumPy is a library that provides lots of useful Math functions for our Python applications\n",
        "\n"
      ]
    },
    {
      "metadata": {
        "id": "wzSOWWO8uEqA",
        "colab_type": "code",
        "colab": {}
      },
      "cell_type": "code",
      "source": [
        "import tensorflow as tf\n",
        "tf.logging.set_verbosity(tf.logging.ERROR)\n",
        "import numpy as np"
      ],
      "execution_count": 0,
      "outputs": []
    },
    {
      "metadata": {
        "id": "lKVw3HkCuQcw",
        "colab_type": "text"
      },
      "cell_type": "markdown",
      "source": [
        "**Step 2**\n",
        "\n",
        "Next we will set up the  <font color='limegreen'>Training Data</font>\n",
        "\n",
        "\n",
        "Our Input will be called celcius_q. An input is known as a  <font color='limegreen'>Feature</font> <br/>\n",
        "Our Output will be called fahrenheit_a. An Output is known as  a <font color='limegreen'>Labels</font><br/>\n",
        " \n",
        "A pair of input and outputs are called a  <font color='limegreen'>Training Example </font> (i.e. 15 and 59)"
      ]
    },
    {
      "metadata": {
        "id": "rSBpWNhgvt6x",
        "colab_type": "code",
        "colab": {}
      },
      "cell_type": "code",
      "source": [
        ""
      ],
      "execution_count": 0,
      "outputs": []
    },
    {
      "metadata": {
        "id": "7pGe2dqhL2eX",
        "colab_type": "text"
      },
      "cell_type": "markdown",
      "source": [
        "**Step 3**\n",
        "\n",
        "Now we will create our <font color='limegreen'>Model</font>\n",
        "\n",
        "The model will be the Neural Network that tries to solve the  <font color='limegreen'> Algorithm </font> relating the input data to the output data \n",
        "\n",
        "To create our model we will use the Keras library component of TensorFlow"
      ]
    },
    {
      "metadata": {
        "id": "-S_y_YTZNeGv",
        "colab_type": "code",
        "colab": {}
      },
      "cell_type": "code",
      "source": [
        ""
      ],
      "execution_count": 0,
      "outputs": []
    },
    {
      "metadata": {
        "id": "N_PQw-DANe4u",
        "colab_type": "text"
      },
      "cell_type": "markdown",
      "source": [
        "**Step 4**\n",
        "\n",
        "The model we just created comprises of a single <font color='limegreen'>Dense layer</font> that consists of 1 <font color='limegreen'>neuron</font> (unit) and has a single dimension array (shape) to work with. \n",
        "\n",
        "Now we have our model we must compile it."
      ]
    },
    {
      "metadata": {
        "id": "alsjJhedPGsu",
        "colab_type": "code",
        "colab": {}
      },
      "cell_type": "code",
      "source": [
        ""
      ],
      "execution_count": 0,
      "outputs": []
    },
    {
      "metadata": {
        "id": "I2h3rbjOPOCX",
        "colab_type": "text"
      },
      "cell_type": "markdown",
      "source": [
        "<font color='limegreen'>loss</font> accounts for variability in the outcomes and <font color='limegreen'>optimiser</font> is how agressively the algorithm will try to find the correct outcome."
      ]
    },
    {
      "metadata": {
        "id": "-Zgn6H5OPinA",
        "colab_type": "text"
      },
      "cell_type": "markdown",
      "source": [
        "**Step 5**\n",
        "Once the model has been compiled we need to <font color='limegreen'> train </font> it by running the algorithm muiltiple times so that it can try to work out the variables that result in the correct output. This is called <font color='limegreen'>Fitting</font>"
      ]
    },
    {
      "metadata": {
        "id": "z9YnH5ciPeCv",
        "colab_type": "code",
        "colab": {}
      },
      "cell_type": "code",
      "source": [
        ""
      ],
      "execution_count": 0,
      "outputs": []
    },
    {
      "metadata": {
        "id": "yl3Vm6I1Q1p3",
        "colab_type": "text"
      },
      "cell_type": "markdown",
      "source": [
        "**Step 6**\n",
        "Now that the model is trained we can display statistics on how many  <font color='limegreen'>epochs</font> it took to find the best fit"
      ]
    },
    {
      "metadata": {
        "id": "H1G7_h4hQ8qW",
        "colab_type": "code",
        "colab": {}
      },
      "cell_type": "code",
      "source": [
        "import matplotlib.pyplot as plt\n",
        "plt.xlabel('Epoch number')\n",
        "plt.ylabel(\"Loss magnitude\")\n",
        "plt.plot(training.history['loss'])"
      ],
      "execution_count": 0,
      "outputs": []
    },
    {
      "metadata": {
        "id": "vdP1csTERIF-",
        "colab_type": "text"
      },
      "cell_type": "markdown",
      "source": [
        "Question: At roughly which epoch number did the training stop making much of a difference? How can we use this information in the future?"
      ]
    },
    {
      "metadata": {
        "id": "k-HnzMOyRgtf",
        "colab_type": "text"
      },
      "cell_type": "markdown",
      "source": [
        "**Step 7**\n",
        "\n",
        "Now that we have a trained model and it has learned the <font color='limegreen'>rules</font> we can use it to predict an output value when given a new input.\n",
        "\n",
        "For example, we know that 100C should be equal to 212F. Let's test it out:"
      ]
    },
    {
      "metadata": {
        "id": "7b-_0TBGSMBx",
        "colab_type": "code",
        "colab": {}
      },
      "cell_type": "code",
      "source": [
        ""
      ],
      "execution_count": 0,
      "outputs": []
    },
    {
      "metadata": {
        "id": "Kcqr2iSzSQv_",
        "colab_type": "text"
      },
      "cell_type": "markdown",
      "source": [
        "While it wasn't exact, it was pretty close. Try it out with another Celcius value and see how close it gets to the correct output value:"
      ]
    },
    {
      "metadata": {
        "id": "kFIzv688Sdt3",
        "colab_type": "code",
        "colab": {}
      },
      "cell_type": "code",
      "source": [
        ""
      ],
      "execution_count": 0,
      "outputs": []
    },
    {
      "metadata": {
        "id": "VBcNgrCNSgyv",
        "colab_type": "text"
      },
      "cell_type": "markdown",
      "source": [
        "**Step 8**\n",
        "\n",
        "Let's take a look at the variables that have been found inside of the algorithm to see how close they were to the actual values.\n",
        "\n",
        "We expect it to have found the formula: F = C * 1.8 + 32\n"
      ]
    },
    {
      "metadata": {
        "id": "Jjzqq4eNSyPn",
        "colab_type": "code",
        "colab": {}
      },
      "cell_type": "code",
      "source": [
        ""
      ],
      "execution_count": 0,
      "outputs": []
    },
    {
      "metadata": {
        "id": "FeLR-yKvS3CJ",
        "colab_type": "text"
      },
      "cell_type": "markdown",
      "source": [
        "Pretty close. \n",
        "\n",
        "There are more advanced techniques we could follow to refine this further, such as adding more layers to the model, adding more nuerons to each layer or increasing the number of epochs that the model has to train for. \n",
        "\n",
        "Feel free to experiement with this."
      ]
    }
  ]
}
